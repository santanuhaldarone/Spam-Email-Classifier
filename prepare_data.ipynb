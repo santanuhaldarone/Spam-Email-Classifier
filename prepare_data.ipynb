{
 "cells": [
  {
   "cell_type": "code",
   "execution_count": null,
   "id": "04723555",
   "metadata": {},
   "outputs": [],
   "source": [
    "import pandas as pd\n",
    "import os\n",
    "\n",
    "os.makedirs(\"data\", exist_ok=True)\n",
    "\n",
    "URL = \"https://raw.githubusercontent.com/justmarkham/pycon-2016-tutorial/master/data/sms.tsv\"\n",
    "\n",
    "df = pd.read_csv(URL, sep='\\t', header=None)\n",
    "df.columns = ['label', 'text']\n",
    "df.to_csv(\"data/spam.csv\", index=False)\n",
    "\n",
    "print(\"✅ Saved to data/spam.csv\")\n"
   ]
  }
 ],
 "metadata": {
  "language_info": {
   "name": "python"
  }
 },
 "nbformat": 4,
 "nbformat_minor": 5
}
